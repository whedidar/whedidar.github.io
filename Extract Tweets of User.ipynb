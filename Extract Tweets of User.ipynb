{
 "cells": [
  {
   "cell_type": "code",
   "execution_count": 1,
   "metadata": {},
   "outputs": [
    {
     "name": "stdout",
     "output_type": "stream",
     "text": [
      "3.10.0\n"
     ]
    }
   ],
   "source": [
    "#based on the following: https://fairyonice.github.io/extract-someones-tweet-using-tweepy.html"
   ]
  },
  {
   "cell_type": "code",
   "execution_count": null,
   "metadata": {},
   "outputs": [],
   "source": [
    "consumer_key =        \"xmPFnyd9jr4XyFQmRhobIbPLZ\"\n",
    "consumer_secret =     \"EgihsTG5t8XWhKBoyXU7d62JRfv2YtC0ih9fNZ5QfyV7ztenqx\"\n",
    "access_token =        \"2931321970-bkctd07SMruYfirq7ckeQ7BKkf5shHaGutLrjSS\"\n",
    "access_token_secret = \"ITpWk9J5pAQUOhyWN7lGS6158OaIPRJwsLZWu635LBk4Z\"\n",
    "\n",
    "from credentials import *\n",
    "import tweepy\n",
    "print(tweepy.__version__)"
   ]
  },
  {
   "cell_type": "code",
   "execution_count": 18,
   "metadata": {},
   "outputs": [],
   "source": [
    "#choose user to download tweets from\n",
    "userID = \"joerogan\""
   ]
  },
  {
   "cell_type": "code",
   "execution_count": 19,
   "metadata": {},
   "outputs": [],
   "source": [
    "# Authorize our Twitter credentials\n",
    "auth = tweepy.OAuthHandler(consumer_key, consumer_secret)\n",
    "auth.set_access_token(access_token, access_token_secret)\n",
    "api = tweepy.API(auth)\n",
    "\n",
    "tweets = api.user_timeline(screen_name=userID, \n",
    "                           # 200 is the maximum allowed count\n",
    "                           count=200,\n",
    "                           include_rts = False,\n",
    "                           # Necessary to keep full_text \n",
    "                           # otherwise only the first 140 words are extracted\n",
    "                           tweet_mode = 'extended'\n",
    "                           )"
   ]
  },
  {
   "cell_type": "code",
   "execution_count": 21,
   "metadata": {},
   "outputs": [
    {
     "name": "stdout",
     "output_type": "stream",
     "text": [
      "N of tweets downloaded till now 290\n",
      "N of tweets downloaded till now 430\n",
      "N of tweets downloaded till now 597\n",
      "N of tweets downloaded till now 754\n",
      "N of tweets downloaded till now 902\n",
      "N of tweets downloaded till now 1027\n",
      "N of tweets downloaded till now 1161\n",
      "N of tweets downloaded till now 1284\n",
      "N of tweets downloaded till now 1414\n",
      "N of tweets downloaded till now 1554\n",
      "N of tweets downloaded till now 1675\n",
      "N of tweets downloaded till now 1817\n",
      "N of tweets downloaded till now 1971\n",
      "N of tweets downloaded till now 2103\n",
      "N of tweets downloaded till now 2231\n",
      "N of tweets downloaded till now 2234\n"
     ]
    }
   ],
   "source": [
    "#download all tweets\n",
    "\n",
    "all_tweets = []\n",
    "all_tweets.extend(tweets)\n",
    "oldest_id = tweets[-1].id\n",
    "while True:\n",
    "    tweets = api.user_timeline(screen_name=userID, \n",
    "                           # 200 is the maximum allowed count\n",
    "                           count=200,\n",
    "                           include_rts = False,\n",
    "                           max_id = oldest_id - 1,\n",
    "                           # Necessary to keep full_text \n",
    "                           # otherwise only the first 140 words are extracted\n",
    "                           tweet_mode = 'extended'\n",
    "                           )\n",
    "    if len(tweets) == 0:\n",
    "        break\n",
    "    oldest_id = tweets[-1].id\n",
    "    all_tweets.extend(tweets)\n",
    "    print('N of tweets downloaded till now {}'.format(len(all_tweets)))"
   ]
  },
  {
   "cell_type": "code",
   "execution_count": 22,
   "metadata": {},
   "outputs": [
    {
     "ename": "NameError",
     "evalue": "name 'tweet' is not defined",
     "output_type": "error",
     "traceback": [
      "\u001b[0;31m---------------------------------------------------------------------------\u001b[0m",
      "\u001b[0;31mNameError\u001b[0m                                 Traceback (most recent call last)",
      "\u001b[0;32m<ipython-input-22-12ad3ed2d362>\u001b[0m in \u001b[0;36m<module>\u001b[0;34m\u001b[0m\n\u001b[0;32m----> 1\u001b[0;31m \u001b[0mtweet\u001b[0m\u001b[0;34m.\u001b[0m\u001b[0mfull_text\u001b[0m\u001b[0;34m.\u001b[0m\u001b[0mencode\u001b[0m\u001b[0;34m(\u001b[0m\u001b[0;34m\"utf-8\"\u001b[0m\u001b[0;34m)\u001b[0m\u001b[0;34m\u001b[0m\u001b[0;34m\u001b[0m\u001b[0m\n\u001b[0m",
      "\u001b[0;31mNameError\u001b[0m: name 'tweet' is not defined"
     ]
    }
   ],
   "source": [
    "#save into CSV\n",
    "tweet.full_text.encode(\"utf-8\")"
   ]
  },
  {
   "cell_type": "code",
   "execution_count": 23,
   "metadata": {},
   "outputs": [
    {
     "data": {
      "text/html": [
       "<div>\n",
       "<style scoped>\n",
       "    .dataframe tbody tr th:only-of-type {\n",
       "        vertical-align: middle;\n",
       "    }\n",
       "\n",
       "    .dataframe tbody tr th {\n",
       "        vertical-align: top;\n",
       "    }\n",
       "\n",
       "    .dataframe thead th {\n",
       "        text-align: right;\n",
       "    }\n",
       "</style>\n",
       "<table border=\"1\" class=\"dataframe\">\n",
       "  <thead>\n",
       "    <tr style=\"text-align: right;\">\n",
       "      <th></th>\n",
       "      <th>id</th>\n",
       "      <th>source</th>\n",
       "      <th>created_at</th>\n",
       "      <th>favorite_count</th>\n",
       "      <th>retweet_count</th>\n",
       "      <th>text</th>\n",
       "    </tr>\n",
       "  </thead>\n",
       "  <tbody>\n",
       "    <tr>\n",
       "      <th>0</th>\n",
       "      <td>1380897360293765121</td>\n",
       "      <td>Instagram</td>\n",
       "      <td>2021-04-10 14:56:01</td>\n",
       "      <td>1452</td>\n",
       "      <td>57</td>\n",
       "      <td>First episode in the new studio with my brothe...</td>\n",
       "    </tr>\n",
       "    <tr>\n",
       "      <th>1</th>\n",
       "      <td>1379877883263381504</td>\n",
       "      <td>Instagram</td>\n",
       "      <td>2021-04-07 19:24:58</td>\n",
       "      <td>1493</td>\n",
       "      <td>85</td>\n",
       "      <td>A great time with a fantastic human and one of...</td>\n",
       "    </tr>\n",
       "    <tr>\n",
       "      <th>2</th>\n",
       "      <td>1379608204653572097</td>\n",
       "      <td>Twitter for iPhone</td>\n",
       "      <td>2021-04-07 01:33:22</td>\n",
       "      <td>5183</td>\n",
       "      <td>784</td>\n",
       "      <td>Mystery Objects Remain Unidentified – Mystery ...</td>\n",
       "    </tr>\n",
       "  </tbody>\n",
       "</table>\n",
       "</div>"
      ],
      "text/plain": [
       "                    id              source          created_at  \\\n",
       "0  1380897360293765121           Instagram 2021-04-10 14:56:01   \n",
       "1  1379877883263381504           Instagram 2021-04-07 19:24:58   \n",
       "2  1379608204653572097  Twitter for iPhone 2021-04-07 01:33:22   \n",
       "\n",
       "   favorite_count  retweet_count  \\\n",
       "0            1452             57   \n",
       "1            1493             85   \n",
       "2            5183            784   \n",
       "\n",
       "                                                text  \n",
       "0  First episode in the new studio with my brothe...  \n",
       "1  A great time with a fantastic human and one of...  \n",
       "2  Mystery Objects Remain Unidentified – Mystery ...  "
      ]
     },
     "execution_count": 23,
     "metadata": {},
     "output_type": "execute_result"
    }
   ],
   "source": [
    "#transform the tweepy tweets into a 2D array that will populate the csv\t\n",
    "from pandas import DataFrame\n",
    "outtweets = [[tweet.id_str, \n",
    "              tweet.source,\n",
    "              tweet.created_at, \n",
    "              tweet.favorite_count, \n",
    "              tweet.retweet_count, \n",
    "              tweet.full_text.encode(\"utf-8\").decode(\"utf-8\")] \n",
    "             for idx,tweet in enumerate(all_tweets)]\n",
    "df = DataFrame(outtweets,columns=[\"id\",\"source\",\"created_at\",\"favorite_count\",\"retweet_count\", \"text\"])\n",
    "df.to_csv('%s_tweets.csv' % userID,index=False)\n",
    "df.head(3)"
   ]
  },
  {
   "cell_type": "code",
   "execution_count": 15,
   "metadata": {},
   "outputs": [
    {
     "ename": "NameError",
     "evalue": "name 'full_text' is not defined",
     "output_type": "error",
     "traceback": [
      "\u001b[0;31m---------------------------------------------------------------------------\u001b[0m",
      "\u001b[0;31mNameError\u001b[0m                                 Traceback (most recent call last)",
      "\u001b[0;32m<ipython-input-15-253927295c5e>\u001b[0m in \u001b[0;36m<module>\u001b[0;34m\u001b[0m\n\u001b[0;32m----> 1\u001b[0;31m \u001b[0mdf\u001b[0m\u001b[0;34m[\u001b[0m\u001b[0mfull_text\u001b[0m\u001b[0;34m]\u001b[0m\u001b[0;34m.\u001b[0m\u001b[0mhead\u001b[0m\u001b[0;34m(\u001b[0m\u001b[0;36m20\u001b[0m\u001b[0;34m)\u001b[0m\u001b[0;34m\u001b[0m\u001b[0;34m\u001b[0m\u001b[0m\n\u001b[0m",
      "\u001b[0;31mNameError\u001b[0m: name 'full_text' is not defined"
     ]
    }
   ],
   "source": [
    "#store CSV into WD\n",
    "ls *.csv"
   ]
  }
 ],
 "metadata": {
  "kernelspec": {
   "display_name": "Python 3",
   "language": "python",
   "name": "python3"
  },
  "language_info": {
   "codemirror_mode": {
    "name": "ipython",
    "version": 3
   },
   "file_extension": ".py",
   "mimetype": "text/x-python",
   "name": "python",
   "nbconvert_exporter": "python",
   "pygments_lexer": "ipython3",
   "version": "3.8.5"
  }
 },
 "nbformat": 4,
 "nbformat_minor": 4
}
